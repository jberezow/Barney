{
 "cells": [
  {
   "cell_type": "code",
   "execution_count": 2,
   "source": [
    "#from actions.messages import it_begins\r\n",
    "import discord\r\n",
    "import asyncio\r\n",
    "import time\r\n",
    "from discord.ext import tasks\r\n",
    "#from actions import *"
   ],
   "outputs": [],
   "metadata": {}
  },
  {
   "cell_type": "code",
   "execution_count": null,
   "source": [
    "TOKEN = 'NDg1ODYxNzIzNjczNDYwNzQ4.XlBNig.9oH5OsJfyifj88ETvQgdAtxq2l4'\r\n",
    "client = discord.Client()\r\n",
    "\r\n",
    "@client.event\r\n",
    "async def on_message(message):\r\n",
    "\r\n",
    "    # Barney won't reply to himself\r\n",
    "    if message.author == client.user:\r\n",
    "        return\r\n",
    "\r\n",
    "@tasks.loop(seconds=10)\r\n",
    "async def stock_check():\r\n",
    "    await client.wait_until_ready()\r\n",
    "    counter = 0\r\n",
    "    channel = discord.Object(id='barney_testing_grounds')\r\n",
    "    await client.send_message(channel, counter)\r\n",
    "    counter += 1\r\n",
    "\r\n",
    "@client.event\r\n",
    "async def on_ready():\r\n",
    "    print(\"{} is now online\".format(client.user.name))\r\n",
    "    print(\"Client user id: {}\".format(client.user.id))\r\n",
    "\r\n",
    "client.run(TOKEN)\r\n",
    "\r\n",
    "print(\"Test\")"
   ],
   "outputs": [],
   "metadata": {}
  }
 ],
 "metadata": {
  "orig_nbformat": 4,
  "language_info": {
   "name": "python",
   "version": "3.9.6",
   "mimetype": "text/x-python",
   "codemirror_mode": {
    "name": "ipython",
    "version": 3
   },
   "pygments_lexer": "ipython3",
   "nbconvert_exporter": "python",
   "file_extension": ".py"
  },
  "kernelspec": {
   "name": "python3",
   "display_name": "Python 3.9.6 64-bit ('barney': conda)"
  },
  "interpreter": {
   "hash": "f6753e08bc29aa79ea43dd79adee6add4cb63d01bdd16e1d172b51aaf1a224d5"
  }
 },
 "nbformat": 4,
 "nbformat_minor": 2
}