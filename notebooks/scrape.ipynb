{
 "cells": [
  {
   "cell_type": "code",
   "execution_count": null,
   "id": "26c9b95d",
   "metadata": {},
   "outputs": [],
   "source": [
    "import requests\n",
    "from bs4 import BeautifulSoup"
   ]
  },
  {
   "cell_type": "code",
   "execution_count": null,
   "id": "3d9d57eb",
   "metadata": {},
   "outputs": [],
   "source": [
    "episode_url = 'https://www.tvfanatic.com/quotes/characters/barney-gumble/page-3.html'\n",
    "episode_req = requests.get(episode_url)\n",
    "episode_content = BeautifulSoup(episode_req.content, 'html.parser')"
   ]
  },
  {
   "cell_type": "code",
   "execution_count": null,
   "id": "acf8d64f",
   "metadata": {},
   "outputs": [],
   "source": [
    "lines = episode_content.find_all('p')"
   ]
  },
  {
   "cell_type": "code",
   "execution_count": null,
   "id": "9b4d70d4",
   "metadata": {},
   "outputs": [],
   "source": [
    "lines"
   ]
  },
  {
   "cell_type": "code",
   "execution_count": null,
   "id": "5665df5c",
   "metadata": {},
   "outputs": [],
   "source": [
    "for i, line in enumerate(lines):\n",
    "    line_text = line.get_text()\n",
    "    if line_text.startswith(\"Barney\"):\n",
    "        print(line_text)"
   ]
  },
  {
   "cell_type": "code",
   "execution_count": null,
   "id": "7dacaad7",
   "metadata": {},
   "outputs": [],
   "source": [
    "def parse_episode(url):\n",
    "    continue\n",
    "    return \"Placeholder\""
   ]
  }
 ],
 "metadata": {
  "kernelspec": {
   "display_name": "Python 3 (ipykernel)",
   "language": "python",
   "name": "python3"
  },
  "language_info": {
   "codemirror_mode": {
    "name": "ipython",
    "version": 3
   },
   "file_extension": ".py",
   "mimetype": "text/x-python",
   "name": "python",
   "nbconvert_exporter": "python",
   "pygments_lexer": "ipython3",
   "version": "3.9.7"
  }
 },
 "nbformat": 4,
 "nbformat_minor": 5
}
