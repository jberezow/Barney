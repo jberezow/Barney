{
 "cells": [
  {
   "cell_type": "code",
   "execution_count": 1,
   "source": [
    "from bs4 import BeautifulSoup\r\n",
    "import bs4\r\n",
    "import lxml\r\n",
    "import requests\r\n",
    "import json\r\n",
    "import selenium"
   ],
   "outputs": [],
   "metadata": {}
  },
  {
   "cell_type": "code",
   "execution_count": 2,
   "source": [
    "def scrape(html_doc):\r\n",
    "    soup = BeautifulSoup(html_doc, 'lxml')\r\n",
    "    return soup\r\n",
    "\r\n",
    "def something_went_wrong(site_name):\r\n",
    "    print(f\"Something went wrong on {site_name}\")"
   ],
   "outputs": [],
   "metadata": {}
  },
  {
   "cell_type": "code",
   "execution_count": 3,
   "source": [
    "# Gather Links\r\n",
    "f = r\"C:\\Users\\jbere\\OneDrive\\Documents\\projects\\Barney\\webscraping\\xbox.json\"\r\n",
    "with open(f) as json_file:\r\n",
    "    sites = json.load(json_file)"
   ],
   "outputs": [],
   "metadata": {}
  },
  {
   "cell_type": "code",
   "execution_count": 4,
   "source": [
    "# Komplett Check\r\n",
    "\r\n",
    "site = 'komplett'\r\n",
    "keyword = \"Motta Varsel\"\r\n",
    "site_url = sites[site]\r\n",
    "\r\n",
    "headers = {'Accept-Encoding': 'identity'}\r\n",
    "site_source = requests.get(site_url, headers=headers)\r\n",
    "content = scrape(site_source.content)\r\n",
    "\r\n",
    "try:\r\n",
    "    content_body = content.body\r\n",
    "    content_button = content.find_all(\"button\",class_=\"btn-large secondary\")[0]\r\n",
    "    content_span = content_button.find_all(\"span\")[0]\r\n",
    "    availability = content_span.contents[0]\r\n",
    "\r\n",
    "    if availability == keyword:\r\n",
    "        available = False\r\n",
    "    else:\r\n",
    "        available = True\r\n",
    "\r\n",
    "    print(f\"Availability: {available}\")\r\n",
    "\r\n",
    "except:\r\n",
    "    something_went_wrong()"
   ],
   "outputs": [
    {
     "output_type": "stream",
     "name": "stdout",
     "text": [
      "Availability: False\n"
     ]
    }
   ],
   "metadata": {}
  },
  {
   "cell_type": "code",
   "execution_count": 5,
   "source": [
    "# Microsoft Store\r\n",
    "\r\n",
    "site = 'microsoft'\r\n",
    "keyword = \"IKKE PÅ LAGER\"\r\n",
    "keyword2 = \"Forhåndsbestill\"\r\n",
    "site_url = sites[site]\r\n",
    "\r\n",
    "headers = {'Accept-Encoding': 'identity'}\r\n",
    "site_source = requests.get(site_url, headers=headers)\r\n",
    "content = scrape(site_source.content)\r\n",
    "\r\n",
    "try:\r\n",
    "    content_body = content.body\r\n",
    "    content_strong = content_body.find_all(\"strong\")[0]\r\n",
    "    availability = content_strong.contents[0]\r\n",
    "\r\n",
    "    if availability == keyword or availability == keyword2:\r\n",
    "        available = False\r\n",
    "    else:\r\n",
    "        available = True\r\n",
    "    \r\n",
    "    print(f\"Availability: {available}\")\r\n",
    "\r\n",
    "except:\r\n",
    "    something_went_wrong(site)"
   ],
   "outputs": [
    {
     "output_type": "stream",
     "name": "stdout",
     "text": [
      "Availability: False\n"
     ]
    }
   ],
   "metadata": {}
  },
  {
   "cell_type": "code",
   "execution_count": 15,
   "source": [
    "# Microsoft Store 2\r\n",
    "\r\n",
    "site = 'microsoft_halo'\r\n",
    "keyword = \"Ikke på lager\"\r\n",
    "site_url = sites[site]\r\n",
    "\r\n",
    "headers = {'Accept-Encoding': 'identity'}\r\n",
    "site_source = requests.get(site_url, headers=headers)\r\n",
    "content = scrape(site_source.content)\r\n",
    "\r\n",
    "try:\r\n",
    "    content_body = content.body\r\n",
    "    content_div5 = content_body.find_all(\"button\", class_ = \"BundleBuilderHeader-module__checkoutButton___3UyEq w-100 bg-light-green btn btn-primary\")[0]\r\n",
    "    availability = content_div5.contents[0]\r\n",
    "\r\n",
    "    if availability == keyword or availability == keyword2:\r\n",
    "        available = False\r\n",
    "    else:\r\n",
    "        available = True\r\n",
    "    \r\n",
    "    print(f\"Availability: {available}\")\r\n",
    "\r\n",
    "except:\r\n",
    "    something_went_wrong(site)"
   ],
   "outputs": [
    {
     "output_type": "stream",
     "name": "stdout",
     "text": [
      "Availability: False\n"
     ]
    }
   ],
   "metadata": {}
  },
  {
   "cell_type": "code",
   "execution_count": 20,
   "source": [
    "content_div5.prettify()"
   ],
   "outputs": [
    {
     "output_type": "execute_result",
     "data": {
      "text/plain": [
       "'<button aria-label=\"Varer til betaling\" class=\"BundleBuilderHeader-module__checkoutButton___3UyEq w-100 bg-light-green btn btn-primary\" data-m=\\'{\"cN\":\"Betaling\",\"id\":\"CheckoutButton\",\"pid\":\"8RPM8T9CK0P6\",\"prod\":\"Xbox Series X – Halo Infinite Limited Edition-pakke\",\"parentName\":\"BundleBuilderHeader\"}\\' disabled=\"\" type=\"button\">\\n Ikke på lager\\n</button>\\n'"
      ]
     },
     "metadata": {},
     "execution_count": 20
    }
   ],
   "metadata": {}
  },
  {
   "cell_type": "code",
   "execution_count": 34,
   "source": [
    "# Try Buying From Microsoft\r\n",
    "from selenium import webdriver\r\n",
    "from selenium.webdriver.common.keys import Keys\r\n",
    "\r\n",
    "# Gather Links\r\n",
    "f = r\"C:\\Users\\jbere\\OneDrive\\Documents\\projects\\Barney\\webscraping\\xbox.json\"\r\n",
    "with open(f) as json_file:\r\n",
    "    sites = json.load(json_file)\r\n",
    "\r\n",
    "site = 'microsoft_halo'\r\n",
    "site_url = sites[site]\r\n",
    "\r\n",
    "sighting = False\r\n",
    "\r\n",
    "driver = webdriver.Chrome()\r\n",
    "driver.get(site_url)\r\n",
    "\r\n",
    "while True:\r\n",
    "    elem = driver.find_element_by_class_name(\"BundleBuilderHeader-module__checkoutButton___3UyEq\")\r\n",
    "    if elem.text == \"Ikke på lager\":\r\n",
    "        pass\r\n",
    "    else:\r\n",
    "        print(\"Success!\")\r\n",
    "        sighting = True\r\n",
    "        elem.click()\r\n",
    "        elem2 = driver.find_element_by_class_name(\"c-button f-primary f-flex\")\r\n",
    "        elem2.click()\r\n",
    "        break\r\n"
   ],
   "outputs": [
    {
     "output_type": "error",
     "ename": "AttributeError",
     "evalue": "'NoneType' object has no attribute 'text'",
     "traceback": [
      "\u001b[1;31m---------------------------------------------------------------------------\u001b[0m",
      "\u001b[1;31mAttributeError\u001b[0m                            Traceback (most recent call last)",
      "\u001b[1;32m~\\AppData\\Local\\Temp/ipykernel_960/309616539.py\u001b[0m in \u001b[0;36m<module>\u001b[1;34m\u001b[0m\n\u001b[0;32m     18\u001b[0m \u001b[1;32mwhile\u001b[0m \u001b[1;32mTrue\u001b[0m\u001b[1;33m:\u001b[0m\u001b[1;33m\u001b[0m\u001b[1;33m\u001b[0m\u001b[0m\n\u001b[0;32m     19\u001b[0m     \u001b[0melem\u001b[0m \u001b[1;33m=\u001b[0m \u001b[0mdriver\u001b[0m\u001b[1;33m.\u001b[0m\u001b[0mfind_element_by_class_name\u001b[0m\u001b[1;33m(\u001b[0m\u001b[1;34m\"BundleBuilderHeader-module__checkoutButton___3UyEq\"\u001b[0m\u001b[1;33m)\u001b[0m\u001b[1;33m\u001b[0m\u001b[1;33m\u001b[0m\u001b[0m\n\u001b[1;32m---> 20\u001b[1;33m     \u001b[1;32mif\u001b[0m \u001b[0melem\u001b[0m\u001b[1;33m.\u001b[0m\u001b[0mtext\u001b[0m \u001b[1;33m==\u001b[0m \u001b[1;34m\"Ikke på lager\"\u001b[0m\u001b[1;33m:\u001b[0m\u001b[1;33m\u001b[0m\u001b[1;33m\u001b[0m\u001b[0m\n\u001b[0m\u001b[0;32m     21\u001b[0m         \u001b[1;32mpass\u001b[0m\u001b[1;33m\u001b[0m\u001b[1;33m\u001b[0m\u001b[0m\n\u001b[0;32m     22\u001b[0m     \u001b[1;32melse\u001b[0m\u001b[1;33m:\u001b[0m\u001b[1;33m\u001b[0m\u001b[1;33m\u001b[0m\u001b[0m\n",
      "\u001b[1;31mAttributeError\u001b[0m: 'NoneType' object has no attribute 'text'"
     ]
    }
   ],
   "metadata": {}
  }
 ],
 "metadata": {
  "orig_nbformat": 4,
  "language_info": {
   "name": "python",
   "version": "3.9.6",
   "mimetype": "text/x-python",
   "codemirror_mode": {
    "name": "ipython",
    "version": 3
   },
   "pygments_lexer": "ipython3",
   "nbconvert_exporter": "python",
   "file_extension": ".py"
  },
  "kernelspec": {
   "name": "python3",
   "display_name": "Python 3.9.6 64-bit ('barney': conda)"
  },
  "interpreter": {
   "hash": "f6753e08bc29aa79ea43dd79adee6add4cb63d01bdd16e1d172b51aaf1a224d5"
  }
 },
 "nbformat": 4,
 "nbformat_minor": 2
}