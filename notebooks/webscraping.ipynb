{
 "cells": [
  {
   "cell_type": "code",
   "execution_count": 1,
   "source": [
    "from bs4 import BeautifulSoup\r\n",
    "import bs4\r\n",
    "import lxml\r\n",
    "import requests\r\n",
    "import json\r\n",
    "import selenium"
   ],
   "outputs": [],
   "metadata": {}
  },
  {
   "cell_type": "code",
   "execution_count": 2,
   "source": [
    "def scrape(html_doc):\r\n",
    "    soup = BeautifulSoup(html_doc, 'lxml')\r\n",
    "    return soup\r\n",
    "\r\n",
    "def something_went_wrong(site_name):\r\n",
    "    print(f\"Something went wrong on {site_name}\")"
   ],
   "outputs": [],
   "metadata": {}
  },
  {
   "cell_type": "code",
   "execution_count": 3,
   "source": [
    "# Gather Links\r\n",
    "f = r\"C:\\Users\\jbere\\OneDrive\\Documents\\projects\\Barney\\webscraping\\xbox.json\"\r\n",
    "with open(f) as json_file:\r\n",
    "    sites = json.load(json_file)"
   ],
   "outputs": [],
   "metadata": {}
  },
  {
   "cell_type": "code",
   "execution_count": null,
   "source": [],
   "outputs": [],
   "metadata": {}
  },
  {
   "cell_type": "code",
   "execution_count": 4,
   "source": [
    "# Komplett Check\r\n",
    "\r\n",
    "site = 'komplett'\r\n",
    "keyword = \"Motta Varsel\"\r\n",
    "site_url = sites[site]\r\n",
    "\r\n",
    "headers = {'Accept-Encoding': 'identity'}\r\n",
    "site_source = requests.get(site_url, headers=headers)\r\n",
    "content = scrape(site_source.content)\r\n",
    "\r\n",
    "try:\r\n",
    "    content_body = content.body\r\n",
    "    content_button = content.find_all(\"button\",class_=\"btn-large secondary\")[0]\r\n",
    "    content_span = content_button.find_all(\"span\")[0]\r\n",
    "    availability = content_span.contents[0]\r\n",
    "\r\n",
    "    if availability == keyword:\r\n",
    "        available = False\r\n",
    "    else:\r\n",
    "        available = True\r\n",
    "\r\n",
    "    print(f\"Availability: {available}\")\r\n",
    "\r\n",
    "except:\r\n",
    "    something_went_wrong()"
   ],
   "outputs": [
    {
     "output_type": "stream",
     "name": "stdout",
     "text": [
      "Availability: False\n"
     ]
    }
   ],
   "metadata": {}
  },
  {
   "cell_type": "code",
   "execution_count": null,
   "source": [
    "site = 'elkjop'\r\n",
    "keyword = ' Ikke tilgjengelig'\r\n",
    "site_url = sites[site]\r\n",
    "\r\n",
    "headers = {'Accept-Encoding': 'identity'}\r\n",
    "site_source = requests.get(site_url, headers=headers)\r\n",
    "#content = scrape(site_source.content)"
   ],
   "outputs": [],
   "metadata": {}
  },
  {
   "cell_type": "code",
   "execution_count": null,
   "source": [
    "# Elkjop\r\n",
    "\r\n",
    "site = 'elkjop'\r\n",
    "keyword = ' Ikke tilgjengelig'\r\n",
    "site_url = sites[site]\r\n",
    "\r\n",
    "headers = {'Accept-Encoding': 'identity'}\r\n",
    "site_source = requests.get(site_url, headers=headers)\r\n",
    "content = scrape(site_source.content)\r\n",
    "\r\n",
    "try:\r\n",
    "    content_body = content.body\r\n",
    "    content_div = content_body.find_all(\"div\", _class = \"buy-button-container align-left any-1-1 table-btn\")\r\n",
    "    content_span = content_div.find_all(\"span\", class_ = \"product-price-text\")[0]\r\n",
    "    availability = content_span.contents[0]\r\n",
    "\r\n",
    "    if availability == keyword:\r\n",
    "        available = False\r\n",
    "    else:\r\n",
    "        available = True\r\n",
    "    \r\n",
    "    print(f\"Availability: {available}\")\r\n",
    "\r\n",
    "except:\r\n",
    "    something_went_wrong(site)"
   ],
   "outputs": [],
   "metadata": {}
  },
  {
   "cell_type": "code",
   "execution_count": null,
   "source": [
    "# Microsoft Store\r\n",
    "\r\n",
    "site = 'microsoft'\r\n",
    "keyword = \"IKKE PÅ LAGER\"\r\n",
    "keyword2 = \"Forhåndsbestill\"\r\n",
    "site_url = sites[site]\r\n",
    "\r\n",
    "headers = {'Accept-Encoding': 'identity'}\r\n",
    "site_source = requests.get(site_url, headers=headers)\r\n",
    "content = scrape(site_source.content)\r\n",
    "\r\n",
    "try:\r\n",
    "    content_body = content.body\r\n",
    "    content_strong = content_body.find_all(\"strong\")[0]\r\n",
    "    availability = content_strong.contents[0]\r\n",
    "\r\n",
    "    if availability == keyword or availability == keyword2:\r\n",
    "        available = False\r\n",
    "    else:\r\n",
    "        available = True\r\n",
    "    \r\n",
    "    print(f\"Availability: {available}\")\r\n",
    "\r\n",
    "except:\r\n",
    "    something_went_wrong(site)"
   ],
   "outputs": [],
   "metadata": {}
  },
  {
   "cell_type": "code",
   "execution_count": null,
   "source": [
    "# Microsoft Store 2\r\n",
    "\r\n",
    "site = 'microsoft_halo'\r\n",
    "keyword = \"Ikke på lager\"\r\n",
    "site_url = sites[site]\r\n",
    "\r\n",
    "headers = {'Accept-Encoding': 'identity'}\r\n",
    "site_source = requests.get(site_url, headers=headers)\r\n",
    "content = scrape(site_source.content)\r\n",
    "\r\n",
    "try:\r\n",
    "    content_body = content.body\r\n",
    "    content_div5 = content_body.find_all(\"button\", class_ = \"BundleBuilderHeader-module__checkoutButton___3UyEq w-100 bg-light-green btn btn-primary\")[0]\r\n",
    "    availability = content_div5.contents[0]\r\n",
    "\r\n",
    "    if availability == keyword or availability == keyword2:\r\n",
    "        available = False\r\n",
    "    else:\r\n",
    "        available = True\r\n",
    "    \r\n",
    "    print(f\"Availability: {available}\")\r\n",
    "\r\n",
    "except:\r\n",
    "    something_went_wrong(site)"
   ],
   "outputs": [],
   "metadata": {}
  },
  {
   "cell_type": "code",
   "execution_count": null,
   "source": [
    "# Try Buying From Microsoft\r\n",
    "from selenium import webdriver\r\n",
    "from selenium.webdriver.common.keys import Keys\r\n",
    "\r\n",
    "# Gather Links\r\n",
    "f = r\"C:\\Users\\jbere\\OneDrive\\Documents\\projects\\Barney\\webscraping\\xbox.json\"\r\n",
    "with open(f) as json_file:\r\n",
    "    sites = json.load(json_file)\r\n",
    "\r\n",
    "site = 'microsoft_halo'\r\n",
    "site_url = sites[site]\r\n",
    "\r\n",
    "sighting = False\r\n",
    "\r\n",
    "driver = webdriver.Chrome()\r\n",
    "driver.get(site_url)\r\n",
    "\r\n",
    "while True:\r\n",
    "    elem = driver.find_element_by_class_name(\"BundleBuilderHeader-module__checkoutButton___3UyEq\")\r\n",
    "    if elem.text == \"Ikke på lager\":\r\n",
    "        pass\r\n",
    "    else:\r\n",
    "        print(\"Success!\")\r\n",
    "        sighting = True\r\n",
    "        elem.click()\r\n",
    "        elem2 = driver.find_element_by_class_name(\"c-button f-primary f-flex\")\r\n",
    "        elem2.click()\r\n",
    "        break\r\n"
   ],
   "outputs": [],
   "metadata": {}
  },
  {
   "cell_type": "code",
   "execution_count": null,
   "source": [
    "# Try Buying From Microsoft Cart\r\n",
    "from selenium import webdriver\r\n",
    "from selenium.webdriver.common.keys import Keys\r\n",
    "\r\n",
    "site_url = f'https://www.microsoft.com/nb-no/store/cart'\r\n",
    "\r\n",
    "sighting = False\r\n",
    "\r\n",
    "driver = webdriver.Chrome()\r\n",
    "driver.get(site_url)\r\n",
    "\r\n",
    "wait = input(\"Press enter\")\r\n",
    "\r\n",
    "while True:\r\n",
    "    driver.get(site_url)\r\n",
    "    elem = driver.find_element_by_class_name(\"f_flex\")\r\n",
    "    elem.click()"
   ],
   "outputs": [],
   "metadata": {}
  }
 ],
 "metadata": {
  "orig_nbformat": 4,
  "language_info": {
   "name": "python",
   "version": "3.9.6",
   "mimetype": "text/x-python",
   "codemirror_mode": {
    "name": "ipython",
    "version": 3
   },
   "pygments_lexer": "ipython3",
   "nbconvert_exporter": "python",
   "file_extension": ".py"
  },
  "kernelspec": {
   "name": "python3",
   "display_name": "Python 3.9.6 64-bit ('barney': conda)"
  },
  "interpreter": {
   "hash": "f6753e08bc29aa79ea43dd79adee6add4cb63d01bdd16e1d172b51aaf1a224d5"
  }
 },
 "nbformat": 4,
 "nbformat_minor": 2
}